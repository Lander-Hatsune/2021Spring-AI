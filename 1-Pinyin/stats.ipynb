{
 "cells": [
  {
   "cell_type": "code",
   "execution_count": 22,
   "id": "olympic-thriller",
   "metadata": {
    "collapsed": false
   },
   "outputs": [],
   "source": [
    "import fileinput\n",
    "import os\n",
    "import numpy as np\n",
    "from tqdm.notebook import tqdm\n",
    "import pickle\n"
   ]
  },
  {
   "cell_type": "code",
   "execution_count": 23,
   "id": "going-plaza",
   "metadata": {
    "collapsed": false
   },
   "outputs": [
    {
     "name": "stdout",
     "output_type": "stream",
     "text": [
      "All 6763 chars\n",
      "3619\n",
      "935\n",
      "1177\n"
     ]
    }
   ],
   "source": [
    "# number the characters\n",
    "num_dict = {}\n",
    "num = 0\n",
    "with fileinput.input(files='ref/charlist.txt',\n",
    "                     openhook=fileinput.hook_encoded('gbk')) as f:\n",
    "    for line in f: # only one line\n",
    "        for char in line:\n",
    "            num_dict[char] = num\n",
    "            num += 1\n",
    "print('All {} chars'.format(num))\n",
    "print(num_dict['中'])\n",
    "print(num_dict['国'])\n",
    "print(num_dict['家'])\n"
   ]
  },
  {
   "cell_type": "code",
   "execution_count": 24,
   "id": "sunset-camcorder",
   "metadata": {
    "collapsed": false
   },
   "outputs": [
    {
     "name": "stdout",
     "output_type": "stream",
     "text": [
      "[244, 4960, 247, 4149, 248, 4554, 5064, 245, 6415, 6301, 246]\n"
     ]
    }
   ],
   "source": [
    "# map words to characters' numbers\n",
    "map_word_num = {}\n",
    "with fileinput.input(files='ref/word-chars.txt',\n",
    "                     openhook=fileinput.hook_encoded('gbk')) as f:\n",
    "    for line in f:\n",
    "        word, chars = line.split()[0], line.split()[1:]\n",
    "        num = [num_dict[char] for char in chars]\n",
    "        map_word_num[word] = num\n",
    "\n",
    "print(map_word_num['cao'])\n",
    "\n",
    "with open('data/map_word_num', 'wb') as f:\n",
    "    pickle.dump(map_word_num, f)"
   ]
  },
  {
   "cell_type": "code",
   "execution_count": 27,
   "id": "scenic-quick",
   "metadata": {
    "collapsed": false
   },
   "outputs": [
    {
     "name": "stdout",
     "output_type": "stream",
     "text": [
      "Resource files: ['ref/corpus/2016-11.txt', 'ref/corpus/conversations.yml', 'ref/corpus/emotion.yml', 'ref/corpus/humor.yml', 'ref/corpus/psychology.yml']\n",
      "File ref/corpus/2016-11.txt\n"
     ]
    },
    {
     "name": "stdout",
     "output_type": "stream",
     "text": [
      "File ref/corpus/conversations.yml\n"
     ]
    },
    {
     "name": "stdout",
     "output_type": "stream",
     "text": [
      "File ref/corpus/emotion.yml\n"
     ]
    },
    {
     "name": "stdout",
     "output_type": "stream",
     "text": [
      "File ref/corpus/humor.yml\n"
     ]
    },
    {
     "name": "stdout",
     "output_type": "stream",
     "text": [
      "File ref/corpus/psychology.yml\n"
     ]
    },
    {
     "name": "stdout",
     "output_type": "stream",
     "text": [
      "11961\n",
      "48954\n"
     ]
    }
   ],
   "source": [
    "# count characters and tuples (time-hungry)\n",
    "mesh_count = np.zeros(shape=(6763, 6763), dtype=np.int32)\n",
    "char_count = np.zeros(shape=(6763), dtype=np.int32)\n",
    "\n",
    "res_files = os.listdir('ref/corpus')\n",
    "if 'README.txt' in res_files:\n",
    "    res_files.remove('README.txt')\n",
    "res_files = [os.path.join('ref/corpus', x) for x in res_files]\n",
    "print('Resource files:', res_files)\n",
    "\n",
    "with fileinput.input(files=res_files) as f:\n",
    "    for line in f:\n",
    "        if fileinput.isfirstline():\n",
    "            print('File {}'.format(fileinput.filename()))\n",
    "            np.save('data/mesh_count' + str(fileinput.fileno()), mesh_count)\n",
    "            np.save('data/char_count' + str(fileinput.fileno()), char_count)\n",
    "\n",
    "        for idx, char in enumerate(line):\n",
    "            if char in num_dict:\n",
    "                char_count[num_dict[char]] += 1\n",
    "                if idx + 1 < len(line) and line[idx + 1] in num_dict:\n",
    "                    mesh_count[num_dict[char]][num_dict[line[idx + 1]]] += 1\n",
    "\n",
    "print(mesh_count[3619][935])\n",
    "print(char_count[3619])\n",
    "np.save('data/mesh_count', mesh_count)\n",
    "np.save('data/char_count', char_count)\n",
    "    \n",
    "        \n"
   ]
  },
  {
   "cell_type": "code",
   "execution_count": 28,
   "id": "divided-system",
   "metadata": {
    "collapsed": false
   },
   "outputs": [],
   "source": [
    "# calc -log of Bayes probability\n",
    "mesh_count = np.load('data/mesh_count.npy')\n",
    "char_count = np.load('data/char_count.npy')\n",
    "char_count += 1\n",
    "\n",
    "ALPHA = 1.2\n",
    "BETA = 0.1\n",
    "\n",
    "mesh_prob_log = -np.log(ALPHA * (mesh_count / char_count.reshape(-1, 1)) +\n",
    "                        BETA * char_count / sum(char_count))\n",
    "\n",
    "\n",
    "np.save('data/mesh_prob_log', mesh_prob_log)\n"
   ]
  },
  {
   "cell_type": "code",
   "execution_count": 29,
   "id": "victorian-retirement",
   "metadata": {
    "collapsed": false
   },
   "outputs": [
    {
     "name": "stdout",
     "output_type": "stream",
     "text": [
      "1.2245439035581083 6.93092951834797\n",
      "1.8897885352198602 7.9638883506457505\n"
     ]
    }
   ],
   "source": [
    "print(mesh_prob_log[3619][935], mesh_prob_log[3619][950])\n",
    "print(mesh_prob_log[935][1177], mesh_prob_log[950][1177])\n",
    "\n"
   ]
  },
  {
   "cell_type": "code",
   "execution_count": 30,
   "id": "extraordinary-retirement",
   "metadata": {
    "collapsed": false
   },
   "outputs": [
    {
     "name": "stdout",
     "output_type": "stream",
     "text": [
      "5.5901944826186245\n",
      "15.589776062881741\n"
     ]
    }
   ],
   "source": [
    "print(mesh_prob_log[3222][3598])\n",
    "print(mesh_prob_log[3222][3597])"
   ]
  },
  {
   "cell_type": "code",
   "execution_count": null,
   "id": "challenging-aging",
   "metadata": {
    "collapsed": false
   },
   "outputs": [],
   "source": []
  }
 ],
 "metadata": {
  "kernelspec": {
   "argv": [
    "python",
    "-m",
    "ipykernel_launcher",
    "-f",
    "{connection_file}"
   ],
   "display_name": "Python 3",
   "env": null,
   "interrupt_mode": "signal",
   "language": "python",
   "metadata": null,
   "name": "python3"
  },
  "language_info": {
   "codemirror_mode": {
    "name": "ipython",
    "version": 3
   },
   "file_extension": ".py",
   "mimetype": "text/x-python",
   "name": "python",
   "nbconvert_exporter": "python",
   "pygments_lexer": "ipython3",
   "version": "3.9.2"
  },
  "name": "stats.ipynb"
 },
 "nbformat": 4,
 "nbformat_minor": 5
}
