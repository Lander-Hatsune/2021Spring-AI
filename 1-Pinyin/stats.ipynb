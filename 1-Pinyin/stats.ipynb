{
 "cells": [
  {
   "cell_type": "code",
   "execution_count": 2,
   "id": "macro-visiting",
   "metadata": {
    "collapsed": false
   },
   "outputs": [],
   "source": [
    "import fileinput\n",
    "import os\n",
    "import numpy as np\n",
    "from tqdm.notebook import tqdm\n",
    "import pickle\n"
   ]
  },
  {
   "cell_type": "code",
   "execution_count": 4,
   "id": "black-relations",
   "metadata": {
    "collapsed": false
   },
   "outputs": [
    {
     "name": "stdout",
     "output_type": "stream",
     "text": [
      "All 6763 chars\n",
      "3619\n",
      "935\n",
      "1177\n"
     ]
    }
   ],
   "source": [
    "# number the characters\n",
    "num_dict = {}\n",
    "num = 0\n",
    "with fileinput.input(files='ref/charlist.txt',\n",
    "                     openhook=fileinput.hook_encoded('gbk')) as f:\n",
    "    for line in f: # only one line\n",
    "        for char in line:\n",
    "            num_dict[char] = num\n",
    "            num += 1\n",
    "print('All {} chars'.format(num))\n",
    "print(num_dict['中'])\n",
    "print(num_dict['国'])\n",
    "print(num_dict['家'])\n"
   ]
  },
  {
   "cell_type": "code",
   "execution_count": 5,
   "id": "silent-publication",
   "metadata": {
    "collapsed": false
   },
   "outputs": [
    {
     "name": "stdout",
     "output_type": "stream",
     "text": [
      "[244, 4960, 247, 4149, 248, 4554, 5064, 245, 6415, 6301, 246]\n"
     ]
    }
   ],
   "source": [
    "# map words to characters' numbers\n",
    "map_word_num = {}\n",
    "with fileinput.input(files='ref/word-chars.txt',\n",
    "                     openhook=fileinput.hook_encoded('gbk')) as f:\n",
    "    for line in f:\n",
    "        word, chars = line.split()[0], line.split()[1:]\n",
    "        num = [num_dict[char] for char in chars]\n",
    "        map_word_num[word] = num\n",
    "\n",
    "print(map_word_num['cao'])\n",
    "\n",
    "with open('data/map_word_num', 'wb') as f:\n",
    "    pickle.dump(map_word_num, f)"
   ]
  },
  {
   "cell_type": "code",
   "execution_count": 4,
   "id": "religious-chosen",
   "metadata": {
    "collapsed": false
   },
   "outputs": [
    {
     "name": "stdout",
     "output_type": "stream",
     "text": [
      "Resource files: ['ref/corpus/00-2016-02-utf.txt', 'ref/corpus/01-dgk_shooter_min.txt', 'ref/corpus/02-2016-11.txt', 'ref/corpus/03-dev.txt']\n",
      "File ref/corpus/00-2016-02-utf.txt\n"
     ]
    },
    {
     "name": "stdout",
     "output_type": "stream",
     "text": [
      "{\"html\":\"原标题：快讯：台湾高雄6.7级地震多幢大楼倒塌不断传出呼救声中国地震台网测定，今日3时57分在台湾高雄市发生6.7级地震。据台媒报道，地震释放能量相当于两颗原子弹。台南市多处楼房倾斜倒塌。其中，台南市永大路二段一栋住宅大楼倒塌，整栋建筑物倒榻在马路上，建筑物内不断传出呼救声。#高雄6.7级地震#\",\"time\":\"2016-02-0606:45\",\"title\":\"快讯：台湾高雄6.7级地震多幢大楼倒塌不断传出呼救声\",\"url\":\"http:news.sina.com.cno2016-02-06doc-ifxpfhzk9008548.shtml\"}\n",
      "\n"
     ]
    },
    {
     "name": "stdout",
     "output_type": "stream",
     "text": [
      "File ref/corpus/01-dgk_shooter_min.txt\n"
     ]
    },
    {
     "name": "stdout",
     "output_type": "stream",
     "text": [
      "M畹华吾侄\n",
      "\n"
     ]
    },
    {
     "name": "stdout",
     "output_type": "stream",
     "text": [
      "File ref/corpus/02-2016-11.txt\n"
     ]
    },
    {
     "name": "stdout",
     "output_type": "stream",
     "text": [
      "{\"html\":\"新华社贝鲁特10月31日电（记者李良勇）黎巴嫩国民议会31日举行总统选举投票，基督教政党“自由爱国运动”创始人、议员米歇尔·奥恩当选总统。当天，除一名于数周前辞职的议员外，黎巴嫩议会其余127名议员全部参加投票，超过举行总统选举投票所需的法定人数。根据黎巴嫩宪法，议会只有在三分之二以上议员出席的情况下才能举行总统选举投票。而且，候选人需获得三分之二选票才能当选，否则需举行第二轮投票，在第二轮投票中赢得绝对多数选票者当选。经过两轮投票，奥恩当选新任总统。随后，他在议会宣誓就职。奥恩现年81岁，曾任黎巴嫩武装部队总司令、临时军政府总理。他于1991年至2005年流亡法国，后返回黎巴嫩，参加议会选举并当选议员。黎巴嫩宪法规定，总统由基督教马龙派人士担任，任期6年，不得连选连任。黎巴嫩前总统苏莱曼2014年5月卸任后，黎主要政治派别在总统人选问题上争执不休，导致议会45次推迟举行总统选举投票。（完）责任编辑：刘德宾SN222\",\"time\":\"2016-11-0100:09\",\"title\":\"黎巴嫩基督教政党议员米歇尔-奥恩当选总统\",\"url\":\"http:news.sina.com.cnwzx2016-11-01doc-ifxxfysn8299529.shtml\"}\n",
      "\n"
     ]
    },
    {
     "name": "stdout",
     "output_type": "stream",
     "text": [
      "File ref/corpus/03-dev.txt\n"
     ]
    },
    {
     "name": "stdout",
     "output_type": "stream",
     "text": [
      "1myhometown的中文歌词很感动英文版是小田亲自翻译的更加感动求v_url_thanks3\n",
      "\n"
     ]
    },
    {
     "name": "stdout",
     "output_type": "stream",
     "text": [
      "97050\n",
      "461106\n"
     ]
    }
   ],
   "source": [
    "# count characters and tuples (time-hungry)\n",
    "mesh_count = np.zeros(shape=(6763, 6763), dtype=np.int32)\n",
    "char_count = np.zeros(shape=(6763), dtype=np.int32)\n",
    "res_files = os.listdir('ref/corpus')\n",
    "res_files = [os.path.join('ref/corpus', x) for x in res_files]\n",
    "print('Resource files:', res_files)\n",
    "with fileinput.input(files=res_files,\n",
    "                     openhook=fileinput.hook_encoded('utf-8', 'ignore')) as f:\n",
    "    for line in f:\n",
    "        if fileinput.isfirstline():\n",
    "            print('File {}'.format(fileinput.filename()))\n",
    "            np.save('data/mesh_count' + str(fileinput.fileno()), mesh_count)\n",
    "            np.save('data/char_count' + str(fileinput.fileno()), char_count)\n",
    "            \n",
    "        line = line.replace(' ', '')\n",
    "        line = line.replace('\t', '')\n",
    "        line = line.replace('/', '')\n",
    "        if fileinput.isfirstline():\n",
    "            print(line)\n",
    "        for idx, char in enumerate(line):\n",
    "            if char in num_dict:\n",
    "                char_count[num_dict[char]] += 1\n",
    "                if idx + 1 < len(line) and line[idx + 1] in num_dict:\n",
    "                    mesh_count[num_dict[char]][num_dict[line[idx + 1]]] += 1\n",
    "\n",
    "\n",
    "print(mesh_count[3619][935])\n",
    "print(char_count[3619])\n",
    "np.save('data/mesh_count', mesh_count)\n",
    "np.save('data/char_count', char_count)\n",
    "\n",
    "        \n",
    "\n"
   ]
  },
  {
   "cell_type": "code",
   "execution_count": 26,
   "id": "considerable-mystery",
   "metadata": {
    "collapsed": false
   },
   "outputs": [
    {
     "name": "stdout",
     "output_type": "stream",
     "text": [
      "1019.0\n",
      "129.0\n"
     ]
    },
    {
     "name": "stdout",
     "output_type": "stream",
     "text": [
      "5.312501\n",
      "2.793043\n",
      "3.5695128\n",
      "4.050872\n",
      "0.44474122\n"
     ]
    }
   ],
   "source": [
    "# calc -log of Bayes probability\n",
    "mesh_count = np.load('data/mesh_count.npy').astype(np.float32)\n",
    "char_count = np.load('data/char_count.npy').astype(np.float32)\n",
    "\n",
    "char_count += 0.000001\n",
    "print(mesh_count[num_dict['清']][num_dict['华']])\n",
    "print(mesh_count[num_dict['氰']][num_dict['化']])\n",
    "\n",
    "LAMBDA = 0.934\n",
    "\n",
    "mesh_prob_log = -np.log(LAMBDA * (mesh_count / char_count.reshape(-1, 1)) +\n",
    "                        (1 - LAMBDA) * char_count / char_count.sum())\n",
    "\n",
    "\n",
    "np.save('data/mesh_prob_log', mesh_prob_log)\n",
    "np.save('data/char_prob_log', -np.log(char_count / char_count.sum()))\n",
    "\n",
    "print(mesh_prob_log[num_dict['一']][num_dict['只']])\n",
    "print(mesh_prob_log[num_dict['颐']][num_dict['指']])\n",
    "print(mesh_prob_log[num_dict['一']][num_dict['直']])\n",
    "\n",
    "\n",
    "print(mesh_prob_log[num_dict['清']][num_dict['华']])\n",
    "print(mesh_prob_log[num_dict['氰']][num_dict['化']])\n"
   ]
  },
  {
   "cell_type": "code",
   "execution_count": null,
   "id": "frank-quantum",
   "metadata": {
    "collapsed": false
   },
   "outputs": [],
   "source": []
  }
 ],
 "metadata": {
  "kernelspec": {
   "argv": [
    "/usr/bin/python3",
    "-m",
    "ipykernel_launcher",
    "-f",
    "{connection_file}"
   ],
   "display_name": "Python 3",
   "env": null,
   "interrupt_mode": "signal",
   "language": "python",
   "metadata": null,
   "name": "python3"
  },
  "language_info": {
   "codemirror_mode": {
    "name": "ipython",
    "version": 3
   },
   "file_extension": ".py",
   "mimetype": "text/x-python",
   "name": "python",
   "nbconvert_exporter": "python",
   "pygments_lexer": "ipython3",
   "version": "3.9.2"
  },
  "name": "stats.ipynb"
 },
 "nbformat": 4,
 "nbformat_minor": 5
}
